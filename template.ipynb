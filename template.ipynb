{
  "nbformat": 4,
  "nbformat_minor": 0,
  "metadata": {
    "colab": {
      "provenance": [],
      "mount_file_id": "12yR07cD_7DhfpAvNdinAZLW7jKfT80v5",
      "authorship_tag": "ABX9TyOei1PeK6Hvih2o4LJculAZ",
      "include_colab_link": true
    },
    "kernelspec": {
      "name": "python3",
      "display_name": "Python 3"
    },
    "language_info": {
      "name": "python"
    }
  },
  "cells": [
    {
      "cell_type": "markdown",
      "metadata": {
        "id": "view-in-github",
        "colab_type": "text"
      },
      "source": [
        "<a href=\"https://colab.research.google.com/github/CyprianSwiech/data-science-bootcamp/blob/main/template.ipynb\" target=\"_parent\"><img src=\"https://colab.research.google.com/assets/colab-badge.svg\" alt=\"Open In Colab\"/></a>"
      ]
    },
    {
      "cell_type": "code",
      "execution_count": 1,
      "metadata": {
        "colab": {
          "base_uri": "https://localhost:8080/"
        },
        "id": "RzMoRPY0_rhg",
        "outputId": "1018a650-bf2c-4bea-aacc-4e3c5506c2c0"
      },
      "outputs": [
        {
          "output_type": "stream",
          "name": "stdout",
          "text": [
            "Hello Collab\n"
          ]
        }
      ],
      "source": [
        "print('Hello Collab')"
      ]
    },
    {
      "cell_type": "code",
      "source": [
        "print('Hello!')"
      ],
      "metadata": {
        "colab": {
          "base_uri": "https://localhost:8080/"
        },
        "id": "sSfU5QB0_5CI",
        "outputId": "ca48d868-7fe2-491a-fa20-79aac6dac3a6"
      },
      "execution_count": 2,
      "outputs": [
        {
          "output_type": "stream",
          "name": "stdout",
          "text": [
            "Hello!\n"
          ]
        }
      ]
    },
    {
      "cell_type": "code",
      "source": [],
      "metadata": {
        "id": "RBZjNLf6_67x"
      },
      "execution_count": null,
      "outputs": []
    },
    {
      "cell_type": "markdown",
      "source": [
        "Siemanko"
      ],
      "metadata": {
        "id": "Np5urssu_8bs"
      }
    },
    {
      "cell_type": "code",
      "source": [],
      "metadata": {
        "id": "uc_68A1h_-Ng"
      },
      "execution_count": null,
      "outputs": []
    },
    {
      "cell_type": "markdown",
      "source": [
        "###Siemanko"
      ],
      "metadata": {
        "id": "ApbGuwi5ABUt"
      }
    },
    {
      "cell_type": "code",
      "source": [],
      "metadata": {
        "id": "diaIxVWxABNR"
      },
      "execution_count": null,
      "outputs": []
    }
  ]
}